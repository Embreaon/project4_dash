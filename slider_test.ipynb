{
 "cells": [
  {
   "cell_type": "code",
   "execution_count": 2,
   "id": "04db3c7e-8251-4026-a1b8-18f2a9c7ef53",
   "metadata": {},
   "outputs": [
    {
     "name": "stdout",
     "output_type": "stream",
     "text": [
      "Dash is running on http://127.0.0.1:8050/\n",
      "\n",
      " * Serving Flask app '__main__'\n",
      " * Debug mode: on\n"
     ]
    },
    {
     "ename": "SystemExit",
     "evalue": "1",
     "output_type": "error",
     "traceback": [
      "An exception has occurred, use %tb to see the full traceback.\n",
      "\u001b[1;31mSystemExit\u001b[0m\u001b[1;31m:\u001b[0m 1\n"
     ]
    }
   ],
   "source": [
    "import dash\n",
    "import dash_html_components as html\n",
    "import dash_core_components as dcc\n",
    "\n",
    "app = dash.Dash()\n",
    "\n",
    "image_path = 'assets/'\n",
    "\n",
    "app.layout = html.Div(\n",
    "    [\n",
    "        html.Img(\n",
    "            id='image',\n",
    "            src=image_path+'image1.jpg',\n",
    "            height='400'\n",
    "        ),\n",
    "        html.Div(\n",
    "            id='slider',\n",
    "            children=[\n",
    "                html.Label('Select an image:'),\n",
    "                dcc.Slider(\n",
    "                    id='image-slider',\n",
    "                    min=1,\n",
    "                    max=3,\n",
    "                    value=1,\n",
    "                    marks={\n",
    "                        1: {'label': 'Image 1'},\n",
    "                        2: {'label': 'Image 2'},\n",
    "                        3: {'label': 'Image 3'}\n",
    "                    },\n",
    "                    step=None\n",
    "                )\n",
    "            ]\n",
    "        )\n",
    "    ]\n",
    ")\n",
    "\n",
    "app.scripts.append_script({\n",
    "    'external_url': 'https://code.jquery.com/jquery-3.6.0.min.js'\n",
    "})\n",
    "\n",
    "app.index_string = \"\"\"\n",
    "<!DOCTYPE html>\n",
    "<html>\n",
    "    <head>\n",
    "        {%metas%}\n",
    "        <title>{%title%}</title>\n",
    "        {%favicon%}\n",
    "        {%css%}\n",
    "        <link rel=\"stylesheet\" type=\"text/css\" href=\"assets/slider.css\">\n",
    "    </head>\n",
    "    <body>\n",
    "        {%app_entry%}\n",
    "        <footer>\n",
    "            {%config%}\n",
    "            {%scripts%}\n",
    "            {%renderer%}\n",
    "            <script src=\"assets/slider.js\"></script>\n",
    "        </footer>\n",
    "    </body>\n",
    "</html>\n",
    "\"\"\"\n",
    "\n",
    "if __name__ == '__main__':\n",
    "    app.run_server(debug=True)\n"
   ]
  }
 ],
 "metadata": {
  "kernelspec": {
   "display_name": "Python 3 (ipykernel)",
   "language": "python",
   "name": "python3"
  },
  "language_info": {
   "codemirror_mode": {
    "name": "ipython",
    "version": 3
   },
   "file_extension": ".py",
   "mimetype": "text/x-python",
   "name": "python",
   "nbconvert_exporter": "python",
   "pygments_lexer": "ipython3",
   "version": "3.10.10"
  }
 },
 "nbformat": 4,
 "nbformat_minor": 5
}
