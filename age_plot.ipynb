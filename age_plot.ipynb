{
 "cells": [
  {
   "cell_type": "code",
   "execution_count": 2,
   "id": "e4fd5c7e-93f5-4056-9aec-3c86873a7d95",
   "metadata": {},
   "outputs": [],
   "source": [
    "from dash import Dash, html, dcc, Input, Output\n",
    "from jupyter_dash import JupyterDash\n",
    "import plotly.express as px\n",
    "import pandas as pd"
   ]
  },
  {
   "cell_type": "code",
   "execution_count": null,
   "id": "61dc1c18-a779-4f81-9ea3-dab7039cf777",
   "metadata": {},
   "outputs": [],
   "source": [
    "Medical_Image_Data = pd.read_csv('data/Medical_Image_Data_01.csv', encoding='CP949')\n",
    "Patient_Diagnosis_Data = pd.read_csv('data/Patient_Diagnosis_Data.csv')\n",
    "Patient_Surgery_Data = pd.read_csv('data/Patient_Surgery_Data.csv')"
   ]
  },
  {
   "cell_type": "code",
   "execution_count": null,
   "id": "f2e45fb7-d0fd-4cf2-ac32-a82c782f0ca3",
   "metadata": {},
   "outputs": [],
   "source": [
    "t1 = Medical_Image_Data.merge(Patient_Diagnosis_Data, on = '환자ID')\n",
    "t2 = t1.merge(Patient_Surgery_Data, on = '환자ID')\n",
    "df = t2.drop(columns = ['신장_y', '연령_y', '입원일자_y', '체중_y', '퇴원일자_y', '헤모글로빈수치_y', '환자통증정도_y', '통증기간(월)_y'])\n",
    "\n",
    "df['통증기간(월)_x'].fillna(df['통증기간(월)_x'].median(), inplace = True)\n",
    "df['수술시간'].fillna(df['수술시간'].median(), inplace = True)\n",
    "\n",
    "df['지방축적도'].fillna(df['지방축적도'].median(), inplace = True)\n",
    "df['PI'].fillna(df['PI'].median(), inplace = True)\n",
    "df['PT'].fillna(df['PT'].median(), inplace = True)\n",
    "df['Seg Angle(raw)'].fillna(df['Seg Angle(raw)'].median(), inplace = True)\n",
    "df['디스크단면적'].fillna(df['디스크단면적'].median(), inplace = True)\n",
    "df['헤모글로빈수치_x'].fillna(df['헤모글로빈수치_x'].median(), inplace = True)\n",
    "\n",
    "df['직업'].fillna('기타', inplace = True)\n",
    "df['수술기법'].fillna('기타', inplace = True)\n",
    "df['가족력'].fillna(0, inplace = True)\n",
    "\n",
    "# df['ODI'].fillna(df['ODI'].median(), inplace = True)\n",
    "df['골밀도'].fillna(df['골밀도'].median(), inplace = True)\n",
    "\n",
    "df.rename(columns = {'체중_x' : '체중', '신장_x' : '신장', '연령_x' : '연령', '입원일자_x' : '입원일자', '퇴원일자_x' : '퇴원일자',\n",
    "                     '헤모글로빈수치_x' : '헤모글로빈수치', '환자통증정도_x' : '환자통증정도', '통증기간(월)_x' : '통증기간(월)'}, inplace = True)\n",
    "\n",
    "df.columns"
   ]
  },
  {
   "cell_type": "code",
   "execution_count": null,
   "id": "dd55a7c6-787d-49e1-a6f7-e958a3052241",
   "metadata": {},
   "outputs": [],
   "source": [
    "def Ygen(x) :\n",
    "  if x >= 80 :\n",
    "    return('80~')\n",
    "  elif x >= 70 :\n",
    "   return('70~80')\n",
    "  elif x >= 60 :\n",
    "   return('60~70')\n",
    "  elif x >= 50 :\n",
    "   return('50~60')\n",
    "  elif x >= 40 :\n",
    "   return('40~50')\n",
    "  elif x >= 30 :\n",
    "    return('30~40')\n",
    "  elif x >= 20 :\n",
    "    return('20~30')\n",
    "  elif x >= 10 :\n",
    "    return('10~20')\n",
    "  else :\n",
    "   return('기타')\n",
    "\n",
    "df['YY'] = df['연령'].agg(Ygen)\n",
    "df['YY'].sample(5)"
   ]
  },
  {
   "cell_type": "code",
   "execution_count": null,
   "id": "1bac0ee1-45d7-4dcf-a87f-f54f1e37d0df",
   "metadata": {},
   "outputs": [],
   "source": [
    "rr = df.groupby('YY')['재발여부'].sum() / df.groupby('YY')['환자ID'].count() * 100\n",
    "fig = px.bar(rr, color_discrete_sequence=['#ed7d31'], text_auto='.2s')\n",
    "fig.update_traces(textposition='outside')\n",
    "fig.update_layout(paper_bgcolor='rgb(230,231,232)', plot_bgcolor='rgb(230,231,232)', showlegend=False, xaxis=dict(tickangle=0),\n",
    "                  font={'size':25}, width=900, height=600)\n",
    "fig.update_xaxes(title_text=None)\n",
    "fig.update_yaxes(title_text=None, showgrid=False)"
   ]
  },
  {
   "cell_type": "code",
   "execution_count": null,
   "id": "4a08420a-fd70-4b34-a51b-9a3aa1365742",
   "metadata": {},
   "outputs": [],
   "source": [
    "app = JupyterDash(__name__)"
   ]
  },
  {
   "cell_type": "code",
   "execution_count": null,
   "id": "6a72cc60-f30f-4186-9ee6-982c4617706e",
   "metadata": {},
   "outputs": [],
   "source": [
    "app.layout = html.Div([\n",
    "    html.H1('Age-Recurrence rate Plot'),\n",
    "    html.Div([dcc.Graph(figure=fig)])\n",
    "])"
   ]
  },
  {
   "cell_type": "code",
   "execution_count": null,
   "id": "fb888755-2093-4737-9713-3168d43c2a64",
   "metadata": {},
   "outputs": [],
   "source": [
    "if __name__ == '__main__':\n",
    "    app.run_server(debug=True)"
   ]
  }
 ],
 "metadata": {
  "kernelspec": {
   "display_name": "Python 3 (ipykernel)",
   "language": "python",
   "name": "python3"
  },
  "language_info": {
   "codemirror_mode": {
    "name": "ipython",
    "version": 3
   },
   "file_extension": ".py",
   "mimetype": "text/x-python",
   "name": "python",
   "nbconvert_exporter": "python",
   "pygments_lexer": "ipython3",
   "version": "3.10.10"
  }
 },
 "nbformat": 4,
 "nbformat_minor": 5
}
